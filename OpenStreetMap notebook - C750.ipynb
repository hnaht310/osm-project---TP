{
 "cells": [
  {
   "cell_type": "markdown",
   "metadata": {},
   "source": [
    "# OpenStreetMap Data Case Study"
   ]
  },
  {
   "cell_type": "markdown",
   "metadata": {},
   "source": [
    "## Map Area"
   ]
  },
  {
   "cell_type": "markdown",
   "metadata": {},
   "source": [
    "The area selected for this project is Richardson, TX. Below is the link to download the data:\n",
    "- https://overpass-api.de/api/map?bbox=-96.7708,32.9218,-96.6112,33.0064"
   ]
  },
  {
   "cell_type": "markdown",
   "metadata": {},
   "source": [
    "I’m interested in this area because this is where I would like to move to within two years. I would like to see what the database would reveal about the city."
   ]
  },
  {
   "cell_type": "markdown",
   "metadata": {},
   "source": [
    "## Problems Encountered in the Map"
   ]
  },
  {
   "cell_type": "markdown",
   "metadata": {},
   "source": [
    "After downloading the data from Openstreetmap (OSM) website, the <code>audit.py</code> file was run to see if there’s problems in the dataset. The following issues were found:\n",
    "- Over-abbreviated street names such as \"St\", \"Dr\", \"Blvd\", \"Rd\", \"Ct\", and \"Hwy\". There are a few street names without street types such as \"Goldmark\" and \"Cedar Sage\". Google Maps shows the full street names with their street types as \"Drive\". \n",
    "- There is also a case where the street name include two streets: 'North Garland Avenue (Spring Creek Way)'. According to Google Maps, the house is located on North Garland Avenue near the intersection of North Garland Avenue and Spring Creek Way.\n",
    "- There are phone numbers not in international format. According to <a href=\"https://wiki.openstreetmap.org/wiki/Key:phone\" target=\"_blank\">OpenStreetMap Wiki</a>, the correct pattern is \n",
    "+country code-area code-local number. Since the area chosen for this project is in the U.S, the country code would be +1. An example of a phone number with correct pattern is +1-201-555-0123. The output shows some phone numbers do not include hyphens, and some having area code in parentheses. A few examples of phone numbers that do not follow the correct format are: '+1 (972) 761-0550', +1 469 8996600', and +1972-238-3546."
   ]
  },
  {
   "cell_type": "markdown",
   "metadata": {},
   "source": [
    "## Data Cleaning "
   ]
  },
  {
   "cell_type": "markdown",
   "metadata": {},
   "source": [
    "In order to clean the street names, update_name function will be used. First, a dictionary called \"mapping\" was created with over-abbreviated street types and incorrect street names being keys, and corrected types being values."
   ]
  },
  {
   "cell_type": "markdown",
   "metadata": {},
   "source": [
    "```python\n",
    "mapping = { \"Rd\" : \"Road\",\n",
    "            \"St\" : \"Street\",\n",
    "            \"Ct\" : \"Court\",\n",
    "            \"Dr\" : \"Drive\",\n",
    "            \"Hwy\": \"Highway\",\n",
    "            \"Blvd\" : \"Boulevard\",\n",
    "            \"North Garland Avenue (Spring Creek Way)\" : \"North Garland Avenue\",\n",
    "            \"Goldmark\" : \"Goldmark Drive\",\n",
    "            \"Cedar Sage\" : \"Cedar Sage Drive\",\n",
    "           }\n",
    "\n",
    "def update_name(name, mapping):\n",
    "    for x, y in mapping.items():\n",
    "        if name.endswith(x):\n",
    "            name = name.replace(x,y)\n",
    "        else:\n",
    "            name = name\n",
    "    return name\n",
    "```"
   ]
  },
  {
   "cell_type": "markdown",
   "metadata": {},
   "source": [
    "After <code>update_name()</code> function was written, <code>improve_name()</code> function was used to see whether <code>update_name()</code> worked on <code>r_sample</code>, a small sample of the dataset.\n",
    "```python\n",
    "def improve_street_name():\n",
    "    st_types = audit.audit(richardson_sample)[0]\n",
    "    pprint.pprint(dict(st_types))\n",
    "\n",
    "    for st_type, ways in st_types.items():\n",
    "        for name in ways:\n",
    "            better_name = update_name(name, mapping)\n",
    "            print(name, \"=>\", better_name)```\n",
    "```{'Circle': {'Hillfawn Circle'},\n",
    " 'Dr': {'Lakespur Dr', 'East CityLine Dr'},\n",
    " 'Rd': {'Abrams Rd', '3301 N Shiloh Rd'},\n",
    " 'Way': {'Lake Park Way'},\n",
    " 'West': {'Executive Drive West'}}\n",
    "Executive Drive West => Executive Drive West\n",
    "Abrams Rd => Abrams Road\n",
    "3301 N Shiloh Rd => 3301 N Shiloh Road\n",
    "Lakespur Dr => Lakespur Drive\n",
    "East CityLine Dr => East CityLine Drive\n",
    "Lake Park Way => Lake Park Way\n",
    "Hillfawn Circle => Hillfawn Circle```"
   ]
  },
  {
   "cell_type": "markdown",
   "metadata": {},
   "source": [
    "Next step is to fix the problems with phone numbers. First, regular expressions were used to find any non-digit characters. All such characters, subsequently, were replaced with an empty string. Finally, <code>format()</code>function was used to standardize the phone numbers. \n",
    "```python\n",
    "def update_num(num):\n",
    "    pattern = re.compile(r'\\D+') # matches one or more characters that are not digits\n",
    "    n = re.sub(pattern, \"\", num) # replace all non-digit characters with an empty string.\n",
    "    good_num = '+{}-{}-{}-{}'.format(n[0], n[1:4], n[4:7], n[7:])\n",
    "    return good_num```"
   ]
  },
  {
   "cell_type": "markdown",
   "metadata": {},
   "source": [
    "Likewise, <code>improve_phone()</code>was executed to confirm<code>update_num()</code>worked as expected.\n",
    "```python\n",
    "def improve_phone():\n",
    "    p_types = audit.audit(richardson_sample)[1]\n",
    "    for p in p_types:\n",
    "        better_p = update_num(p)\n",
    "        print(p, \"=>\", better_p)```\n",
    "```\n",
    "+1 469-204-1000 => +1-469-204-1000\n",
    "+1 972-474-3221 => +1-972-474-3221\n",
    "+1 972-234-3447 => +1-972-234-3447\n",
    "+1 972-675-8600 => +1-972-675-8600\n",
    "+1 972-907-9999 => +1-972-907-9999\n",
    "+1 972-235-3338 => +1-972-235-3338\n",
    "+1 972-495-1243 => +1-972-495-1243\n",
    "+1 972 613 3589 => +1-972-613-3589```"
   ]
  },
  {
   "cell_type": "markdown",
   "metadata": {},
   "source": [
    "After all the issues encountered during the auditing process, final_data.py was run to parse the data, call the <code>update_name()</code> and <code>the update_num() function</code>, and export the cleaned data into CSV files, namely 'nodes.csv', 'nodes_tags'.csv, 'ways.csv', 'ways_tags.csv' and 'ways_nodes.csv'. Finally, the CSV files were imported into a SQL database using the schema provided by Udacity."
   ]
  },
  {
   "cell_type": "markdown",
   "metadata": {},
   "source": [
    "# Data Overview"
   ]
  },
  {
   "cell_type": "markdown",
   "metadata": {},
   "source": [
    "This section includes summary statistics about the cleaned dataset, SQL queries used to retrieve such information."
   ]
  },
  {
   "cell_type": "markdown",
   "metadata": {},
   "source": [
    "### File sizes"
   ]
  },
  {
   "cell_type": "markdown",
   "metadata": {},
   "source": [
    "`richardson.osm .............. 129.5 MB\n",
    "r_sample.db .................. 26.2 MB\n",
    "openstreetmap.db ............. 69.1 MB`"
   ]
  },
  {
   "cell_type": "markdown",
   "metadata": {},
   "source": [
    "### Number of nodes"
   ]
  },
  {
   "cell_type": "markdown",
   "metadata": {},
   "source": [
    "```SQL\n",
    "sqlite> SELECT COUNT(*) FROM nodes;```\n",
    "566122"
   ]
  },
  {
   "cell_type": "markdown",
   "metadata": {},
   "source": [
    "### Number of ways"
   ]
  },
  {
   "cell_type": "markdown",
   "metadata": {},
   "source": [
    "```sql\n",
    "sqlite> SELECT COUNT(*) FROM ways;\n",
    "```\n",
    "77566"
   ]
  },
  {
   "cell_type": "markdown",
   "metadata": {},
   "source": [
    "### Number of unique users"
   ]
  },
  {
   "cell_type": "markdown",
   "metadata": {},
   "source": [
    "```sql\n",
    "sqlite> SELECT COUNT(*) \n",
    "FROM (SELECT uid FROM nodes UNION SELECT uid FROM ways);```\n",
    "654"
   ]
  },
  {
   "cell_type": "markdown",
   "metadata": {},
   "source": [
    "### Top 10 contributing users"
   ]
  },
  {
   "cell_type": "markdown",
   "metadata": {},
   "source": [
    "```sql\n",
    "sqlite> SELECT u.user, COUNT(*) as num\n",
    "FROM (SELECT user FROM nodes UNION ALL SELECT user FROM ways) u\n",
    "GROUP BY u.user\n",
    "ORDER BY num DESC\n",
    "LIMIT 10;```\n",
    "```\n",
    "Andrew Matheny_import|434731\n",
    "woodpeck_fixbot|18490\n",
    "NoneOfYourBusiness|18398\n",
    "Andrew Matheny|17158\n",
    "houston_mapper1|11046\n",
    "GarrettPennell_import|10950\n",
    "fmmute|10567\n",
    "Garrett Pennell|10248\n",
    "THoffman|9350\n",
    "SeanTaplinGarlandTx|5187```"
   ]
  },
  {
   "cell_type": "markdown",
   "metadata": {},
   "source": [
    "### Total number of cuisines"
   ]
  },
  {
   "cell_type": "markdown",
   "metadata": {},
   "source": [
    "```sql\n",
    "sqlite> SELECT SUM(count) FROM\n",
    "(SELECT COUNT(DISTINCT id)as count FROM ways_tags WHERE key = 'cuisine'\n",
    "UNION \n",
    "SELECT COUNT(DISTINCT id) as count FROM nodes_tags WHERE key = 'cuisine');\n",
    "```\n",
    "244"
   ]
  },
  {
   "cell_type": "markdown",
   "metadata": {},
   "source": [
    "### Top 10 cuisines"
   ]
  },
  {
   "cell_type": "markdown",
   "metadata": {},
   "source": [
    "```sql\n",
    "sqlite> SELECT value, COUNT(*) as num FROM\n",
    "(SELECT value FROM nodes_tags WHERE key = 'cuisine'\n",
    "UNION ALL \n",
    "SELECT value FROM ways_tags WHERE key = 'cuisine')\n",
    "GROUP BY value\n",
    "ORDER BY num DESC\n",
    "LIMIT 10;\n",
    "```\n",
    "```\n",
    "burger|39\n",
    "mexican|22\n",
    "sandwich|21\n",
    "pizza|18\n",
    "coffee_shop|13\n",
    "tex-mex|11\n",
    "chicken|11\n",
    "american|11\n",
    "chinese|8\n",
    "seafood|6\n",
    "\n",
    "```"
   ]
  },
  {
   "cell_type": "markdown",
   "metadata": {},
   "source": [
    "### Top 10 amenities"
   ]
  },
  {
   "cell_type": "markdown",
   "metadata": {},
   "source": [
    "```sql\n",
    "sqlite> SELECT value, COUNT(DISTINCT id) as num\n",
    "FROM nodes_tags \n",
    "WHERE key = 'amenity' \n",
    "GROUP BY value\n",
    "ORDER BY num DESC \n",
    "LIMIT 10;\n",
    "```\n",
    "```\n",
    "restaurant|117\n",
    "fast_food|59\n",
    "parking_entrance|37\n",
    "waste_basket|27\n",
    "cafe|20\n",
    "bench|12\n",
    "post_box|11\n",
    "school|10\n",
    "drinking_water|9\n",
    "bicycle_repair_station|9\n",
    "```"
   ]
  },
  {
   "cell_type": "markdown",
   "metadata": {},
   "source": [
    "## Additional Ideas and Conclusion"
   ]
  },
  {
   "cell_type": "markdown",
   "metadata": {},
   "source": [
    "During data audit process, field street and field phone were inspected. A few issues were identified, and cleaned programmatically. In particular, there was inconsistent names for street type, and incorrect format for phone numbers. One way to address the problems is to block incorrectly formatted data from being entered. OSM could provide an automated check to ensure the entered data is complete, and in a correct format or pattern. OSM could also notify users when invalid input is submitted, displaying a message that describes the error. By doing this, users can see what’s wrong and correctly re-enter new data. Another possible solution is to provide automatic corrections for any data entry errors. This will significantly reduce the time spent on data cleaning. However, it is possible that the validation does not catch all the errors. Therefore, it is still important to have validation check in place after user input is inserted into the database."
   ]
  },
  {
   "cell_type": "markdown",
   "metadata": {},
   "source": [
    "## References"
   ]
  },
  {
   "cell_type": "markdown",
   "metadata": {},
   "source": [
    "https://www.tutorialspoint.com/python_data_access/python_sqlite_create_table.htm"
   ]
  },
  {
   "cell_type": "markdown",
   "metadata": {},
   "source": [
    "http://wiki.openstreetmap.org/wiki/Map_Features"
   ]
  },
  {
   "cell_type": "markdown",
   "metadata": {},
   "source": [
    "https://gist.github.com/carlward/54ec1c91b62a5f911c42#file-sample_project-md"
   ]
  }
 ],
 "metadata": {
  "kernelspec": {
   "display_name": "Python 3",
   "language": "python",
   "name": "python3"
  },
  "language_info": {
   "codemirror_mode": {
    "name": "ipython",
    "version": 3
   },
   "file_extension": ".py",
   "mimetype": "text/x-python",
   "name": "python",
   "nbconvert_exporter": "python",
   "pygments_lexer": "ipython3",
   "version": "3.7.6"
  }
 },
 "nbformat": 4,
 "nbformat_minor": 4
}
